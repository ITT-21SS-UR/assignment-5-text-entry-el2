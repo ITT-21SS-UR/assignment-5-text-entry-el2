{
 "cells": [
  {
   "cell_type": "code",
   "execution_count": 1,
   "id": "color-providence",
   "metadata": {},
   "outputs": [],
   "source": [
    "# imports\n",
    "import pandas as pd # data mangling\n",
    "import matplotlib\n",
    "from matplotlib import pyplot as plt\n",
    "import scipy\n",
    "import numpy as np\n",
    "import seaborn as sns"
   ]
  },
  {
   "cell_type": "code",
   "execution_count": 2,
   "id": "native-greene",
   "metadata": {},
   "outputs": [],
   "source": [
    "df_simple = pd.read_csv('simple_concat.csv')\n",
    "df_technique = pd.read_csv('technique_concat.csv')"
   ]
  },
  {
   "cell_type": "code",
   "execution_count": 3,
   "id": "alpine-october",
   "metadata": {},
   "outputs": [
    {
     "data": {
      "text/html": [
       "<div>\n",
       "<style scoped>\n",
       "    .dataframe tbody tr th:only-of-type {\n",
       "        vertical-align: middle;\n",
       "    }\n",
       "\n",
       "    .dataframe tbody tr th {\n",
       "        vertical-align: top;\n",
       "    }\n",
       "\n",
       "    .dataframe thead th {\n",
       "        text-align: right;\n",
       "    }\n",
       "</style>\n",
       "<table border=\"1\" class=\"dataframe\">\n",
       "  <thead>\n",
       "    <tr style=\"text-align: right;\">\n",
       "      <th></th>\n",
       "      <th>event</th>\n",
       "      <th>user_id</th>\n",
       "      <th>timestamp</th>\n",
       "      <th>time_taken_in_ms</th>\n",
       "      <th>wpm</th>\n",
       "      <th>numBksp</th>\n",
       "    </tr>\n",
       "  </thead>\n",
       "  <tbody>\n",
       "    <tr>\n",
       "      <th>0</th>\n",
       "      <td>key_press</td>\n",
       "      <td>1</td>\n",
       "      <td>2021-05-17 20:20:30.880483</td>\n",
       "      <td>114</td>\n",
       "      <td>0.000000</td>\n",
       "      <td>0</td>\n",
       "    </tr>\n",
       "    <tr>\n",
       "      <th>1</th>\n",
       "      <td>key_press</td>\n",
       "      <td>1</td>\n",
       "      <td>2021-05-17 20:20:31.010277</td>\n",
       "      <td>128</td>\n",
       "      <td>0.000000</td>\n",
       "      <td>0</td>\n",
       "    </tr>\n",
       "    <tr>\n",
       "      <th>2</th>\n",
       "      <td>key_press</td>\n",
       "      <td>1</td>\n",
       "      <td>2021-05-17 20:20:31.221389</td>\n",
       "      <td>209</td>\n",
       "      <td>0.000000</td>\n",
       "      <td>0</td>\n",
       "    </tr>\n",
       "    <tr>\n",
       "      <th>3</th>\n",
       "      <td>key_press</td>\n",
       "      <td>1</td>\n",
       "      <td>2021-05-17 20:20:31.464978</td>\n",
       "      <td>241</td>\n",
       "      <td>0.000000</td>\n",
       "      <td>0</td>\n",
       "    </tr>\n",
       "    <tr>\n",
       "      <th>4</th>\n",
       "      <td>key_press</td>\n",
       "      <td>1</td>\n",
       "      <td>2021-05-17 20:20:31.680181</td>\n",
       "      <td>214</td>\n",
       "      <td>0.000000</td>\n",
       "      <td>0</td>\n",
       "    </tr>\n",
       "    <tr>\n",
       "      <th>...</th>\n",
       "      <td>...</td>\n",
       "      <td>...</td>\n",
       "      <td>...</td>\n",
       "      <td>...</td>\n",
       "      <td>...</td>\n",
       "      <td>...</td>\n",
       "    </tr>\n",
       "    <tr>\n",
       "      <th>1146</th>\n",
       "      <td>key_press</td>\n",
       "      <td>2</td>\n",
       "      <td>2021-05-17 20:40:01.552719</td>\n",
       "      <td>293</td>\n",
       "      <td>0.000000</td>\n",
       "      <td>19</td>\n",
       "    </tr>\n",
       "    <tr>\n",
       "      <th>1147</th>\n",
       "      <td>key_press</td>\n",
       "      <td>2</td>\n",
       "      <td>2021-05-17 20:40:06.094681</td>\n",
       "      <td>4536</td>\n",
       "      <td>0.000000</td>\n",
       "      <td>20</td>\n",
       "    </tr>\n",
       "    <tr>\n",
       "      <th>1148</th>\n",
       "      <td>key_press</td>\n",
       "      <td>2</td>\n",
       "      <td>2021-05-17 20:40:06.101762</td>\n",
       "      <td>0</td>\n",
       "      <td>0.000000</td>\n",
       "      <td>20</td>\n",
       "    </tr>\n",
       "    <tr>\n",
       "      <th>1149</th>\n",
       "      <td>key_press</td>\n",
       "      <td>2</td>\n",
       "      <td>2021-05-17 20:40:06.247967</td>\n",
       "      <td>140</td>\n",
       "      <td>0.000000</td>\n",
       "      <td>20</td>\n",
       "    </tr>\n",
       "    <tr>\n",
       "      <th>1150</th>\n",
       "      <td>sentence</td>\n",
       "      <td>2</td>\n",
       "      <td>2021-05-17 20:40:06.640484</td>\n",
       "      <td>53797</td>\n",
       "      <td>44.612153</td>\n",
       "      <td>20</td>\n",
       "    </tr>\n",
       "  </tbody>\n",
       "</table>\n",
       "<p>1151 rows × 6 columns</p>\n",
       "</div>"
      ],
      "text/plain": [
       "          event  user_id                   timestamp  time_taken_in_ms  \\\n",
       "0     key_press        1  2021-05-17 20:20:30.880483               114   \n",
       "1     key_press        1  2021-05-17 20:20:31.010277               128   \n",
       "2     key_press        1  2021-05-17 20:20:31.221389               209   \n",
       "3     key_press        1  2021-05-17 20:20:31.464978               241   \n",
       "4     key_press        1  2021-05-17 20:20:31.680181               214   \n",
       "...         ...      ...                         ...               ...   \n",
       "1146  key_press        2  2021-05-17 20:40:01.552719               293   \n",
       "1147  key_press        2  2021-05-17 20:40:06.094681              4536   \n",
       "1148  key_press        2  2021-05-17 20:40:06.101762                 0   \n",
       "1149  key_press        2  2021-05-17 20:40:06.247967               140   \n",
       "1150   sentence        2  2021-05-17 20:40:06.640484             53797   \n",
       "\n",
       "            wpm  numBksp  \n",
       "0      0.000000        0  \n",
       "1      0.000000        0  \n",
       "2      0.000000        0  \n",
       "3      0.000000        0  \n",
       "4      0.000000        0  \n",
       "...         ...      ...  \n",
       "1146   0.000000       19  \n",
       "1147   0.000000       20  \n",
       "1148   0.000000       20  \n",
       "1149   0.000000       20  \n",
       "1150  44.612153       20  \n",
       "\n",
       "[1151 rows x 6 columns]"
      ]
     },
     "metadata": {},
     "output_type": "display_data"
    }
   ],
   "source": [
    "display(df_simple)"
   ]
  },
  {
   "cell_type": "code",
   "execution_count": 4,
   "id": "scientific-peninsula",
   "metadata": {},
   "outputs": [
    {
     "data": {
      "text/html": [
       "<div>\n",
       "<style scoped>\n",
       "    .dataframe tbody tr th:only-of-type {\n",
       "        vertical-align: middle;\n",
       "    }\n",
       "\n",
       "    .dataframe tbody tr th {\n",
       "        vertical-align: top;\n",
       "    }\n",
       "\n",
       "    .dataframe thead th {\n",
       "        text-align: right;\n",
       "    }\n",
       "</style>\n",
       "<table border=\"1\" class=\"dataframe\">\n",
       "  <thead>\n",
       "    <tr style=\"text-align: right;\">\n",
       "      <th></th>\n",
       "      <th>event</th>\n",
       "      <th>user_id</th>\n",
       "      <th>timestamp</th>\n",
       "      <th>time_taken_in_ms</th>\n",
       "      <th>auto_completed</th>\n",
       "      <th>auto_completion_count</th>\n",
       "      <th>wpm</th>\n",
       "      <th>numBksp</th>\n",
       "    </tr>\n",
       "  </thead>\n",
       "  <tbody>\n",
       "    <tr>\n",
       "      <th>0</th>\n",
       "      <td>key_press</td>\n",
       "      <td>1</td>\n",
       "      <td>2021-05-17 20:29:35.585373</td>\n",
       "      <td>266</td>\n",
       "      <td>False</td>\n",
       "      <td>0</td>\n",
       "      <td>NaN</td>\n",
       "      <td>0</td>\n",
       "    </tr>\n",
       "    <tr>\n",
       "      <th>1</th>\n",
       "      <td>key_press</td>\n",
       "      <td>1</td>\n",
       "      <td>2021-05-17 20:29:35.716303</td>\n",
       "      <td>128</td>\n",
       "      <td>False</td>\n",
       "      <td>0</td>\n",
       "      <td>NaN</td>\n",
       "      <td>0</td>\n",
       "    </tr>\n",
       "    <tr>\n",
       "      <th>2</th>\n",
       "      <td>key_press</td>\n",
       "      <td>1</td>\n",
       "      <td>2021-05-17 20:29:35.803294</td>\n",
       "      <td>83</td>\n",
       "      <td>False</td>\n",
       "      <td>0</td>\n",
       "      <td>NaN</td>\n",
       "      <td>0</td>\n",
       "    </tr>\n",
       "    <tr>\n",
       "      <th>3</th>\n",
       "      <td>key_press</td>\n",
       "      <td>1</td>\n",
       "      <td>2021-05-17 20:29:36.036551</td>\n",
       "      <td>230</td>\n",
       "      <td>False</td>\n",
       "      <td>0</td>\n",
       "      <td>NaN</td>\n",
       "      <td>0</td>\n",
       "    </tr>\n",
       "    <tr>\n",
       "      <th>4</th>\n",
       "      <td>key_press</td>\n",
       "      <td>1</td>\n",
       "      <td>2021-05-17 20:29:36.585378</td>\n",
       "      <td>547</td>\n",
       "      <td>False</td>\n",
       "      <td>1</td>\n",
       "      <td>NaN</td>\n",
       "      <td>0</td>\n",
       "    </tr>\n",
       "    <tr>\n",
       "      <th>...</th>\n",
       "      <td>...</td>\n",
       "      <td>...</td>\n",
       "      <td>...</td>\n",
       "      <td>...</td>\n",
       "      <td>...</td>\n",
       "      <td>...</td>\n",
       "      <td>...</td>\n",
       "      <td>...</td>\n",
       "    </tr>\n",
       "    <tr>\n",
       "      <th>967</th>\n",
       "      <td>key_press</td>\n",
       "      <td>2</td>\n",
       "      <td>2021-05-17 20:36:47.905565</td>\n",
       "      <td>0</td>\n",
       "      <td>False</td>\n",
       "      <td>18</td>\n",
       "      <td>NaN</td>\n",
       "      <td>9</td>\n",
       "    </tr>\n",
       "    <tr>\n",
       "      <th>968</th>\n",
       "      <td>key_press</td>\n",
       "      <td>2</td>\n",
       "      <td>2021-05-17 20:36:48.006410</td>\n",
       "      <td>90</td>\n",
       "      <td>False</td>\n",
       "      <td>18</td>\n",
       "      <td>NaN</td>\n",
       "      <td>9</td>\n",
       "    </tr>\n",
       "    <tr>\n",
       "      <th>969</th>\n",
       "      <td>key_press</td>\n",
       "      <td>2</td>\n",
       "      <td>2021-05-17 20:36:48.132114</td>\n",
       "      <td>109</td>\n",
       "      <td>False</td>\n",
       "      <td>18</td>\n",
       "      <td>NaN</td>\n",
       "      <td>9</td>\n",
       "    </tr>\n",
       "    <tr>\n",
       "      <th>970</th>\n",
       "      <td>key_press</td>\n",
       "      <td>2</td>\n",
       "      <td>2021-05-17 20:36:48.703970</td>\n",
       "      <td>562</td>\n",
       "      <td>False</td>\n",
       "      <td>18</td>\n",
       "      <td>NaN</td>\n",
       "      <td>9</td>\n",
       "    </tr>\n",
       "    <tr>\n",
       "      <th>971</th>\n",
       "      <td>sentence</td>\n",
       "      <td>2</td>\n",
       "      <td>2021-05-17 20:36:49.482395</td>\n",
       "      <td>67640</td>\n",
       "      <td>True</td>\n",
       "      <td>19</td>\n",
       "      <td>34.594914</td>\n",
       "      <td>9</td>\n",
       "    </tr>\n",
       "  </tbody>\n",
       "</table>\n",
       "<p>972 rows × 8 columns</p>\n",
       "</div>"
      ],
      "text/plain": [
       "         event  user_id                   timestamp  time_taken_in_ms  \\\n",
       "0    key_press        1  2021-05-17 20:29:35.585373               266   \n",
       "1    key_press        1  2021-05-17 20:29:35.716303               128   \n",
       "2    key_press        1  2021-05-17 20:29:35.803294                83   \n",
       "3    key_press        1  2021-05-17 20:29:36.036551               230   \n",
       "4    key_press        1  2021-05-17 20:29:36.585378               547   \n",
       "..         ...      ...                         ...               ...   \n",
       "967  key_press        2  2021-05-17 20:36:47.905565                 0   \n",
       "968  key_press        2  2021-05-17 20:36:48.006410                90   \n",
       "969  key_press        2  2021-05-17 20:36:48.132114               109   \n",
       "970  key_press        2  2021-05-17 20:36:48.703970               562   \n",
       "971   sentence        2  2021-05-17 20:36:49.482395             67640   \n",
       "\n",
       "     auto_completed  auto_completion_count        wpm  numBksp  \n",
       "0             False                      0        NaN        0  \n",
       "1             False                      0        NaN        0  \n",
       "2             False                      0        NaN        0  \n",
       "3             False                      0        NaN        0  \n",
       "4             False                      1        NaN        0  \n",
       "..              ...                    ...        ...      ...  \n",
       "967           False                     18        NaN        9  \n",
       "968           False                     18        NaN        9  \n",
       "969           False                     18        NaN        9  \n",
       "970           False                     18        NaN        9  \n",
       "971            True                     19  34.594914        9  \n",
       "\n",
       "[972 rows x 8 columns]"
      ]
     },
     "metadata": {},
     "output_type": "display_data"
    }
   ],
   "source": [
    "display(df_technique)"
   ]
  },
  {
   "cell_type": "markdown",
   "id": "polished-choir",
   "metadata": {},
   "source": [
    "# Basic Findings - Mean time taken per word"
   ]
  },
  {
   "cell_type": "code",
   "execution_count": 7,
   "id": "electrical-sympathy",
   "metadata": {},
   "outputs": [
    {
     "name": "stdout",
     "output_type": "stream",
     "text": [
      "All values are time in ms\n",
      "Mean simple: 1012.3660130718954\n",
      "Mean technique: 1255.1038961038962\n",
      "STD simple: 631.1108450297537\n",
      "STD technique: 760.38764181763\n",
      "Max simple: 3909\n",
      "Max technique: 5374\n",
      "Min simple: 281\n",
      "Min technique: 309\n"
     ]
    }
   ],
   "source": [
    "time_per_word_simple = df_simple[(df_simple['event'] == 'word')]['time_taken_in_ms']\n",
    "time_per_word_technique = df_technique[(df_technique['event'] == 'word')]['time_taken_in_ms']\n",
    "\n",
    "\n",
    "print(\"All values are time in ms\")\n",
    "\n",
    "mean_simple = np.mean(time_per_word_simple)\n",
    "mean_technique = np.mean(time_per_word_technique)\n",
    "print(\"Mean simple: \" + str(mean_simple))\n",
    "print(\"Mean technique: \" + str(mean_technique))\n",
    "\n",
    "std_simple = np.std(time_per_word_simple)\n",
    "std_technique = np.std(time_per_word_technique)\n",
    "\n",
    "print(\"STD simple: \" + str(std_simple))\n",
    "print(\"STD technique: \" + str(std_technique))\n",
    "\n",
    "max_simple = np.max(time_per_word_simple)\n",
    "max_technique = np.max(time_per_word_technique)\n",
    "\n",
    "print(\"Max simple: \" + str(max_simple))\n",
    "print(\"Max technique: \" + str(max_technique))\n",
    "\n",
    "min_simple = np.min(time_per_word_simple)\n",
    "min_technique = np.min(time_per_word_technique)\n",
    "\n",
    "print(\"Min simple: \" + str(min_simple))\n",
    "print(\"Min technique: \" + str(min_technique))"
   ]
  },
  {
   "cell_type": "code",
   "execution_count": 8,
   "id": "suspended-hospital",
   "metadata": {},
   "outputs": [
    {
     "data": {
      "text/plain": [
       "Ttest_indResult(statistic=-3.032535935876729, pvalue=0.0026333446298427506)"
      ]
     },
     "execution_count": 8,
     "metadata": {},
     "output_type": "execute_result"
    }
   ],
   "source": [
    "scipy.stats.ttest_ind(time_per_word_simple, time_per_word_technique)"
   ]
  },
  {
   "cell_type": "markdown",
   "id": "false-request",
   "metadata": {},
   "source": [
    "# Boxplot- Time taken per word"
   ]
  },
  {
   "cell_type": "code",
   "execution_count": 34,
   "id": "growing-invitation",
   "metadata": {},
   "outputs": [],
   "source": [
    "# Concatenate the two datasets\n",
    "concat = pd.concat([df_simple[(df_simple['event'] == 'word')].assign(dataset='simple'), df_technique[(df_technique['event'] == 'word')].assign(dataset='technique')])"
   ]
  },
  {
   "cell_type": "code",
   "execution_count": 35,
   "id": "absolute-dynamics",
   "metadata": {},
   "outputs": [
    {
     "data": {
      "image/png": "[encoded data removed]",
      "text/plain": [
       "<Figure size 432x288 with 1 Axes>"
      ]
     },
     "metadata": {
      "needs_background": "light"
     },
     "output_type": "display_data"
    }
   ],
   "source": [
    "plot = sns.boxplot(\n",
    "    data = concat,\n",
    "    x = \"dataset\",\n",
    "    y = \"time_taken_in_ms\"\n",
    ")\n",
    "plot.set(xlabel = \"Dataset\", ylabel = \"Time taken in ms\")\n",
    "\n",
    "plt.show()"
   ]
  },
  {
   "cell_type": "markdown",
   "id": "close-reflection",
   "metadata": {},
   "source": [
    "# Boxplot - words per minute"
   ]
  },
  {
   "cell_type": "code",
   "execution_count": 36,
   "id": "choice-thesis",
   "metadata": {},
   "outputs": [],
   "source": [
    "# Concatenate the two datasets\n",
    "concat = pd.concat([df_simple[(df_simple['event'] == 'sentence')].assign(dataset='simple'), df_technique[(df_technique['event'] == 'sentence')].assign(dataset='technique')])"
   ]
  },
  {
   "cell_type": "code",
   "execution_count": 38,
   "id": "tribal-tradition",
   "metadata": {},
   "outputs": [
    {
     "data": {
      "image/png": "[encoded data removed]",
      "text/plain": [
       "<Figure size 432x288 with 1 Axes>"
      ]
     },
     "metadata": {
      "needs_background": "light"
     },
     "output_type": "display_data"
    }
   ],
   "source": [
    "plot = sns.boxplot(\n",
    "    data = concat,\n",
    "    x = \"dataset\",\n",
    "    y = \"wpm\"\n",
    ")\n",
    "plot.set(xlabel = \"Dataset\", ylabel = \"Words per Minute\")\n",
    "\n",
    "plt.show()"
   ]
  },
  {
   "cell_type": "markdown",
   "id": "logical-brighton",
   "metadata": {},
   "source": [
    "# Usage of auto completion"
   ]
  },
  {
   "cell_type": "code",
   "execution_count": 46,
   "id": "abroad-maryland",
   "metadata": {},
   "outputs": [
    {
     "name": "stdout",
     "output_type": "stream",
     "text": [
      "Auto completed words: 141\n",
      "Manually completed words: 13\n"
     ]
    }
   ],
   "source": [
    "df_technique_words = df_technique[(df_technique['event'] == 'word')]\n",
    "df_auto_completed = df_technique_words[df_technique_words['auto_completed'] == True]\n",
    "df_not_completed = df_technique_words[df_technique_words['auto_completed'] == False]\n",
    "\n",
    "num_auto_completed = len(df_auto_completed.index)\n",
    "num_not_completed = len(df_not_completed.index)\n",
    "\n",
    "print(\"Auto completed words: \" + str(num_auto_completed))\n",
    "print(\"Manually completed words: \" + str(num_not_completed))\n",
    "\n"
   ]
  },
  {
   "cell_type": "code",
   "execution_count": null,
   "id": "little-toilet",
   "metadata": {},
   "outputs": [],
   "source": []
  }
 ],
 "metadata": {
  "kernelspec": {
   "display_name": "Python 3",
   "language": "python",
   "name": "python3"
  },
  "language_info": {
   "codemirror_mode": {
    "name": "ipython",
    "version": 3
   },
   "file_extension": ".py",
   "mimetype": "text/x-python",
   "name": "python",
   "nbconvert_exporter": "python",
   "pygments_lexer": "ipython3",
   "version": "3.9.2"
  }
 },
 "nbformat": 4,
 "nbformat_minor": 5
}
